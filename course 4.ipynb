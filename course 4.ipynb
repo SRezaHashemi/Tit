{
 "cells": [
  {
   "cell_type": "code",
   "execution_count": 5,
   "id": "374fe24b-974e-4f30-ac39-d15f8680ce35",
   "metadata": {},
   "outputs": [],
   "source": [
    "import pandas as pd\n",
    "import numpy as np\n",
    "import matplotlib.pyplot as plt"
   ]
  },
  {
   "cell_type": "code",
   "execution_count": 6,
   "id": "04c51a36-456b-4fac-8d1e-b05450ec0cca",
   "metadata": {},
   "outputs": [
    {
     "data": {
      "text/html": [
       "<div>\n",
       "<style scoped>\n",
       "    .dataframe tbody tr th:only-of-type {\n",
       "        vertical-align: middle;\n",
       "    }\n",
       "\n",
       "    .dataframe tbody tr th {\n",
       "        vertical-align: top;\n",
       "    }\n",
       "\n",
       "    .dataframe thead th {\n",
       "        text-align: right;\n",
       "    }\n",
       "</style>\n",
       "<table border=\"1\" class=\"dataframe\">\n",
       "  <thead>\n",
       "    <tr style=\"text-align: right;\">\n",
       "      <th></th>\n",
       "      <th>X</th>\n",
       "      <th>Y</th>\n",
       "    </tr>\n",
       "  </thead>\n",
       "  <tbody>\n",
       "    <tr>\n",
       "      <th>0</th>\n",
       "      <td>0.655210</td>\n",
       "      <td>-5.1815</td>\n",
       "    </tr>\n",
       "    <tr>\n",
       "      <th>1</th>\n",
       "      <td>0.752910</td>\n",
       "      <td>-4.6796</td>\n",
       "    </tr>\n",
       "    <tr>\n",
       "      <th>2</th>\n",
       "      <td>0.810860</td>\n",
       "      <td>-3.6935</td>\n",
       "    </tr>\n",
       "    <tr>\n",
       "      <th>3</th>\n",

  },
  {
   "cell_type": "code",
   "execution_count": 7,
   "id": "81e3aa13-f8b2-4688-b6f8-ad69a1c683cb",
   "metadata": {},
   "outputs": [
    {
     "data": {
      "text/plain": [
       "0    0.655210\n",
       "1    0.752910\n",
       "2    0.810860\n",
       "3    0.048427\n",
       "4    0.414710\n",
       "Name: X, dtype: float64"
      ]
     },
     "execution_count": 7,
     "metadata": {},
     "output_type": "execute_result"
    }
   ],
   "source": [
    "x=data[\"X\"]\n",
    "y=data[\"Y\"]\n",
    "x.head()"
   ]
  },
  {
   "cell_type": "code",
   "execution_count": 8,
   "id": "bf5588d2-8504-4df3-ac13-c1e94b35e284",
   "metadata": {},
   "outputs": [],
   "source": [
    "x=np.array(x)"
   ]
  },
  {
   "cell_type": "code",
   "execution_count": 9,
   "id": "4d2b75de-eeca-4088-bae8-0e8c59ced578",
   "metadata": {},
   "outputs": [],
   "source": [
    "y=np.array(y)"
   ]
  },
  {
   "cell_type": "code",
   "execution_count": 10,
   "id": "87d8e82b-89ff-4ac8-9c74-be3584cbd8b7",
   "metadata": {},
   "outputs": [
    {
     "data": {
      "text/plain": [
       "<matplotlib.collections.PathCollection at 0x18e44312640>"
      ]
     },
     "execution_count": 10,
     "metadata": {},
     "output_type": "execute_result"
    },
    {
     "data": {
      "image/png": "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\n",
      "text/plain": [
       "<Figure size 432x288 with 1 Axes>"
      ]
     },
     "metadata": {
      "needs_background": "light"
     },
     "output_type": "display_data"
    }
   ],
   "source": [
    "plt.scatter(x,y)"
   ]
  },
  {
   "cell_type": "code",
   "execution_count": 11,
   "id": "1c83265e-7be1-491d-8303-2106896a4018",
   "metadata": {},
   "outputs": [],
   "source": [
    "N=100\n",
    "std=0.5\n",
    "bananas_width=np.random.normal(4,std,N)\n",
    "bananas_length=np.random.normal(8,std,N)"
   ]
  },
  {
   "cell_type": "code",
   "execution_count": 12,
   "id": "3bf21a2b-b855-4a8f-9643-8dbf81ddc234",
   "metadata": {},
   "outputs": [],
   "source": [
    "apple_width=np.random.normal(6,std,N) \n",
    "apple_length=np.random.normal(6,std,N)"
   ]
  },
  {
   "cell_type": "code",
   "execution_count": 13,
   "id": "dbcedb83-3178-4758-a96d-3d1373442fb5",
   "metadata": {},
   "outputs": [],
   "source": [
    "bananas_label=np.zeros(N,dtype='int')\n",
    "apple_label=np.ones(N,dtype='int')"
   ]
  },
  {
   "cell_type": "code",
   "execution_count": 14,
   "id": "8f552648-7ebb-4e89-ba98-3cb8f723dd21",
   "metadata": {},
   "outputs": [],
   "source": [
    "width=np.concatenate((bananas_width,apple_width))\n",
    "length=np.concatenate((bananas_length,apple_length))\n",
    "labels=np.concatenate((bananas_label,apple_label))"
   ]
  },
  {
   "cell_type": "code",
   "execution_count": 15,
   "id": "23979ff0-54e8-476f-8a73-3bf576cfe828",
   "metadata": {},
   "outputs": [
    {
     "data": {
      "text/plain": [
       "(2, 200)"
      ]
     },
     "execution_count": 15,
     "metadata": {},
     "output_type": "execute_result"
    }
   ],
   "source": [
    "datas=np.array([width,length])\n",
    "datas.shape"
   ]
  },
  {
   "cell_type": "code",
   "execution_count": 16,
   "id": "05ea324e-31b8-4e0b-b5a1-98f0917caa65",
   "metadata": {},
   "outputs": [
    {
     "data": {
      "text/plain": [
       "(200,)"
      ]
     },
     "execution_count": 16,
     "metadata": {},
     "output_type": "execute_result"
    }
   ],
   "source": [
    "labels.shape"
   ]
  },
  {
   "cell_type": "code",
   "execution_count": 17,
   "id": "027f4040-e152-4bdf-bada-d3af515357a8",
   "metadata": {},
   "outputs": [],
   "source": [
    "datas=datas.T"
   ]
  },
  {
   "cell_type": "code",
   "execution_count": 18,
   "id": "2756f6fb-bf5f-4d73-8039-61098a8865f3",
   "metadata": {},
   "outputs": [
    {
     "data": {
      "text/plain": [
       "(200, 2)"
      ]
     },
     "execution_count": 18,
     "metadata": {},
     "output_type": "execute_result"
    }
   ],
   "source": [
    "datas.shape"
   ]
  },
  {
   "cell_type": "code",
   "execution_count": 19,
   "id": "3ff12036-ab2d-4dd8-a620-8dee056ce113",
   "metadata": {},
   "outputs": [
    {
     "data": {
      "text/plain": [
       "<matplotlib.collections.PathCollection at 0x18e44421520>"
      ]
     },
     "execution_count": 19,
     "metadata": {},
     "output_type": "execute_result"
    },
    {
     "data": {
      "image/png": "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\n",
      "text/plain": [
       "<Figure size 432x288 with 1 Axes>"
      ]
     },
     "metadata": {
      "needs_background": "light"
     },
     "output_type": "display_data"
    }
   ],
   "source": [
    "plt.scatter(datas[0:N,0],datas[0:N,1],c='yellow')\n",
    "plt.scatter(datas[N:,0],datas[N:,1],c='red')"
   ]
  }
 ],
 "metadata": {
  "kernelspec": {
   "display_name": "Python 3 (ipykernel)",
   "language": "python",
   "name": "python3"
  },
  "language_info": {
   "codemirror_mode": {
    "name": "ipython",
    "version": 3
   },
   "file_extension": ".py",
   "mimetype": "text/x-python",
   "name": "python",
   "nbconvert_exporter": "python",
   "pygments_lexer": "ipython3",
   "version": "3.9.5"
  }
 },
 "nbformat": 4,
 "nbformat_minor": 5
}
